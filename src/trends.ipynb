{
 "cells": [
  {
   "cell_type": "code",
   "execution_count": 1,
   "id": "f9866459-ffc8-40f0-b58d-bdd219355dbe",
   "metadata": {
    "tags": []
   },
   "outputs": [
    {
     "name": "stderr",
     "output_type": "stream",
     "text": [
      "/home/ec2-user/anaconda3/envs/python3/lib/python3.10/site-packages/pandas/core/computation/expressions.py:21: UserWarning: Pandas requires version '2.8.0' or newer of 'numexpr' (version '2.7.3' currently installed).\n",
      "  from pandas.core.computation.check import NUMEXPR_INSTALLED\n"
     ]
    }
   ],
   "source": [
    "import secrets\n",
    "import sqlalchemy\n",
    "import pandas as pd"
   ]
  },
  {
   "cell_type": "code",
   "execution_count": 2,
   "id": "28e20130-bcaf-44d0-bde5-9992988a608b",
   "metadata": {
    "tags": []
   },
   "outputs": [],
   "source": [
    "DB_NAME_MAINNET = 'chainsync_qa_mainnet'\n",
    "DB_NAME_PREPROD = 'chainsync_qa_preprod'\n",
    "DB_NAME_PREVIEW = 'chainsync_qa_preview'"
   ]
  },
  {
   "cell_type": "code",
   "execution_count": 3,
   "id": "709b7c02-d9ae-48dc-bd87-56ab5070b846",
   "metadata": {
    "tags": []
   },
   "outputs": [],
   "source": [
    "engine_mainnet = sqlalchemy.create_engine('postgresql://'+secrets.DB_USER+':'+secrets.DB_PASSWORD+'@'+secrets.DB_HOST+'/'+DB_NAME_MAINNET)\n",
    "engine_preprod = sqlalchemy.create_engine('postgresql://'+secrets.DB_USER+':'+secrets.DB_PASSWORD+'@'+secrets.DB_HOST+'/'+DB_NAME_PREPROD)\n",
    "engine_preview = sqlalchemy.create_engine('postgresql://'+secrets.DB_USER+':'+secrets.DB_PASSWORD+'@'+secrets.DB_HOST+'/'+DB_NAME_PREVIEW)"
   ]
  },
  {
   "cell_type": "code",
   "execution_count": null,
   "id": "d6e77a92-748a-4485-b0b8-057284aac402",
   "metadata": {},
   "outputs": [],
   "source": []
  },
  {
   "cell_type": "markdown",
   "id": "857359cb-ffe0-4629-bc96-ffc4634e7b48",
   "metadata": {},
   "source": [
    "# trend_by_slots"
   ]
  },
  {
   "cell_type": "code",
   "execution_count": 4,
   "id": "d9977c9b-a12d-4574-830d-12e233a5f326",
   "metadata": {
    "tags": []
   },
   "outputs": [],
   "source": [
    "df_mainnet = pd.read_sql('SELECT * FROM analysis.trend_by_slots', engine_mainnet)\n",
    "df_preprod = pd.read_sql('SELECT * FROM analysis.trend_by_slots', engine_preprod)\n",
    "df_preview = pd.read_sql('SELECT * FROM analysis.trend_by_slots', engine_preview)"
   ]
  },
  {
   "cell_type": "code",
   "execution_count": 5,
   "id": "5ef1c8ad-d392-4686-a9be-1bcb4df6ac7c",
   "metadata": {
    "tags": []
   },
   "outputs": [],
   "source": [
    "def adjusted_slotno(val, offset):\n",
    "    return int(val + offset)\n",
    "\n",
    "df_mainnet['slotno_adjusted'] = df_mainnet.apply(lambda row: adjusted_slotno(row['slotno'], 1685297070 - 93730779),axis=1)\n",
    "df_preprod['slotno_adjusted'] = df_preprod.apply(lambda row: adjusted_slotno(row['slotno'], 1685297096 - 29613896),axis=1)\n",
    "df_preview['slotno_adjusted'] = df_preview.apply(lambda row: adjusted_slotno(row['slotno'], 1685297218 - 18641218),axis=1)\n",
    "\n",
    "df_mainnet = df_mainnet.astype({'slotno_adjusted':'int'})\n",
    "df_preprod = df_preprod.astype({'slotno_adjusted':'int'})\n",
    "df_preview = df_preview.astype({'slotno_adjusted':'int'})"
   ]
  },
  {
   "cell_type": "code",
   "execution_count": 6,
   "id": "d3088256-a928-44b9-a54d-63ae87a84128",
   "metadata": {
    "tags": []
   },
   "outputs": [],
   "source": [
    "df_mainnet['date'] = pd.to_datetime(df_mainnet['slotno_adjusted'], unit='s').dt.date\n",
    "df_preprod['date'] = pd.to_datetime(df_preprod['slotno_adjusted'], unit='s').dt.date\n",
    "df_preview['date'] = pd.to_datetime(df_preview['slotno_adjusted'], unit='s').dt.date"
   ]
  },
  {
   "cell_type": "code",
   "execution_count": 7,
   "id": "f26dae66-32d2-448a-87da-114463e674ba",
   "metadata": {
    "tags": []
   },
   "outputs": [],
   "source": [
    "df_mainnet = df_mainnet.groupby('date').tail(1).sort_values('slotno').reset_index(drop=True)\n",
    "df_preprod = df_preprod.groupby('date').tail(1).sort_values('slotno').reset_index(drop=True)\n",
    "df_preview = df_preview.groupby('date').tail(1).sort_values('slotno').reset_index(drop=True)"
   ]
  },
  {
   "cell_type": "code",
   "execution_count": 8,
   "id": "d6742216-8002-4bdc-90a5-9736c374c96c",
   "metadata": {
    "tags": []
   },
   "outputs": [
    {
     "name": "stderr",
     "output_type": "stream",
     "text": [
      "/tmp/ipykernel_4207/3668841857.py:1: FutureWarning: DataFrame.fillna with 'method' is deprecated and will raise in a future version. Use obj.ffill() or obj.bfill() instead.\n",
      "  df_mainnet = df_mainnet.fillna(method='ffill')\n",
      "/tmp/ipykernel_4207/3668841857.py:2: FutureWarning: DataFrame.fillna with 'method' is deprecated and will raise in a future version. Use obj.ffill() or obj.bfill() instead.\n",
      "  df_preprod = df_preprod.fillna(method='ffill')\n",
      "/tmp/ipykernel_4207/3668841857.py:3: FutureWarning: DataFrame.fillna with 'method' is deprecated and will raise in a future version. Use obj.ffill() or obj.bfill() instead.\n",
      "  df_preview = df_preview.fillna(method='ffill')\n"
     ]
    }
   ],
   "source": [
    "df_mainnet = df_mainnet.fillna(method='ffill')\n",
    "df_preprod = df_preprod.fillna(method='ffill')\n",
    "df_preview = df_preview.fillna(method='ffill')"
   ]
  },
  {
   "cell_type": "code",
   "execution_count": 9,
   "id": "0dd7b89a-a6a6-4258-bd38-9772261af56b",
   "metadata": {
    "tags": []
   },
   "outputs": [],
   "source": [
    "df_mainnet = df_mainnet.groupby(['date'])[['creations','closures','active','transactions','ada_transacted','payment_addresses','stake_addresses']].max()\n",
    "df_preprod = df_preprod.groupby(['date'])[['creations','closures','active','transactions','ada_transacted','payment_addresses','stake_addresses']].max()\n",
    "df_preview = df_preview.groupby(['date'])[['creations','closures','active','transactions','ada_transacted','payment_addresses','stake_addresses']].max()"
   ]
  },
  {
   "cell_type": "code",
   "execution_count": null,
   "id": "5ee26a78-9ee2-4faa-ac6b-240047c29af5",
   "metadata": {},
   "outputs": [],
   "source": []
  },
  {
   "cell_type": "code",
   "execution_count": 10,
   "id": "1a493408-3dd7-4922-a14a-4c7b63f35e4c",
   "metadata": {
    "tags": []
   },
   "outputs": [],
   "source": [
    "# each network are sorted and group by date\n",
    "# now we merge all networks, and fill in the blanks"
   ]
  },
  {
   "cell_type": "code",
   "execution_count": 11,
   "id": "3242589f-fb73-44e1-86a2-281083609e7e",
   "metadata": {
    "tags": []
   },
   "outputs": [],
   "source": [
    "df_merged = pd.concat([df_mainnet, df_preprod, df_preview], axis=1)\n",
    "df_merged = df_merged.sort_index()\n",
    "# df_merged"
   ]
  },
  {
   "cell_type": "code",
   "execution_count": null,
   "id": "d9391eaf-9f3d-40e5-8a91-995d34e560fd",
   "metadata": {
    "tags": []
   },
   "outputs": [],
   "source": []
  },
  {
   "cell_type": "code",
   "execution_count": 12,
   "id": "f29f713e-eb33-405f-9b2e-5015f49dc670",
   "metadata": {
    "tags": []
   },
   "outputs": [
    {
     "name": "stderr",
     "output_type": "stream",
     "text": [
      "/tmp/ipykernel_4207/3608558967.py:1: FutureWarning: DataFrame.fillna with 'method' is deprecated and will raise in a future version. Use obj.ffill() or obj.bfill() instead.\n",
      "  df_merged = df_merged.fillna(method='ffill')\n"
     ]
    }
   ],
   "source": [
    "df_merged = df_merged.fillna(method='ffill')\n",
    "df_merged = df_merged.fillna(0)\n",
    "# df_merged"
   ]
  },
  {
   "cell_type": "code",
   "execution_count": 13,
   "id": "ed7f922f-e593-439e-8963-84a9d1dc2b73",
   "metadata": {
    "tags": []
   },
   "outputs": [],
   "source": [
    "df_merged.columns = [\n",
    "    'mainnet_creations',\n",
    "    'mainnet_closures',\n",
    "    'mainnet_active',\n",
    "    'mainnet_transactions',\n",
    "    'mainnet_ada_transacted',\n",
    "    'mainnet_payment_addresses',\n",
    "    'mainnet_stake_addresses',\n",
    "    'preprod_creations',\n",
    "    'preprod_closures',\n",
    "    'preprod_active',\n",
    "    'preprod_transactions',\n",
    "    'preprod_ada_transacted',\n",
    "    'preprod_payment_addresses',\n",
    "    'preprod_stake_addresses',\n",
    "    'preview_creations',\n",
    "    'preview_closures',\n",
    "    'preview_active',\n",
    "    'preview_transactions',\n",
    "    'preview_ada_transacted',\n",
    "    'preview_payment_addresses',\n",
    "    'preview_stake_addresses',\n",
    "]"
   ]
  },
  {
   "cell_type": "code",
   "execution_count": 14,
   "id": "50d86bf4-783e-4bbb-9dc9-bdccc632f28c",
   "metadata": {
    "tags": []
   },
   "outputs": [
    {
     "name": "stderr",
     "output_type": "stream",
     "text": [
      "/tmp/ipykernel_4207/1146035682.py:59: SettingWithCopyWarning: \n",
      "A value is trying to be set on a copy of a slice from a DataFrame.\n",
      "Try using .loc[row_indexer,col_indexer] = value instead\n",
      "\n",
      "See the caveats in the documentation: https://pandas.pydata.org/pandas-docs/stable/user_guide/indexing.html#returning-a-view-versus-a-copy\n",
      "  df_mainnet2['network'] = 'mainnet'\n",
      "/tmp/ipykernel_4207/1146035682.py:60: SettingWithCopyWarning: \n",
      "A value is trying to be set on a copy of a slice from a DataFrame.\n",
      "Try using .loc[row_indexer,col_indexer] = value instead\n",
      "\n",
      "See the caveats in the documentation: https://pandas.pydata.org/pandas-docs/stable/user_guide/indexing.html#returning-a-view-versus-a-copy\n",
      "  df_preprod2['network'] = 'preprod'\n",
      "/tmp/ipykernel_4207/1146035682.py:61: SettingWithCopyWarning: \n",
      "A value is trying to be set on a copy of a slice from a DataFrame.\n",
      "Try using .loc[row_indexer,col_indexer] = value instead\n",
      "\n",
      "See the caveats in the documentation: https://pandas.pydata.org/pandas-docs/stable/user_guide/indexing.html#returning-a-view-versus-a-copy\n",
      "  df_preview2['network'] = 'preview'\n"
     ]
    }
   ],
   "source": [
    "df_mainnet2 = df_merged[[\n",
    "    'mainnet_creations',\n",
    "    'mainnet_closures',\n",
    "    'mainnet_active',\n",
    "    'mainnet_transactions',\n",
    "    'mainnet_ada_transacted',\n",
    "    'mainnet_payment_addresses',\n",
    "    'mainnet_stake_addresses',\n",
    "]]\n",
    "\n",
    "df_preprod2 = df_merged[[\n",
    "    'preprod_creations',\n",
    "    'preprod_closures',\n",
    "    'preprod_active',\n",
    "    'preprod_transactions',\n",
    "    'preprod_ada_transacted',\n",
    "    'preprod_payment_addresses',\n",
    "    'preprod_stake_addresses',\n",
    "]]\n",
    "\n",
    "df_preview2 = df_merged[[\n",
    "    'preview_creations',\n",
    "    'preview_closures',\n",
    "    'preview_active',\n",
    "    'preview_transactions',\n",
    "    'preview_ada_transacted',\n",
    "    'preview_payment_addresses',\n",
    "    'preview_stake_addresses',\n",
    "]]\n",
    "\n",
    "df_mainnet2.columns = [\n",
    "    'creations',\n",
    "    'closures',\n",
    "    'active',\n",
    "    'transactions',\n",
    "    'ada_transacted',\n",
    "    'payment_addresses',\n",
    "    'stake_addresses',\n",
    "]\n",
    "df_preprod2.columns = [\n",
    "    'creations',\n",
    "    'closures',\n",
    "    'active',\n",
    "    'transactions',\n",
    "    'ada_transacted',\n",
    "    'payment_addresses',\n",
    "    'stake_addresses',\n",
    "]\n",
    "df_preview2.columns = [\n",
    "    'creations',\n",
    "    'closures',\n",
    "    'active',\n",
    "    'transactions',\n",
    "    'ada_transacted',\n",
    "    'payment_addresses',\n",
    "    'stake_addresses',\n",
    "]\n",
    "\n",
    "df_mainnet2['network'] = 'mainnet'\n",
    "df_preprod2['network'] = 'preprod'\n",
    "df_preview2['network'] = 'preview'"
   ]
  },
  {
   "cell_type": "code",
   "execution_count": null,
   "id": "5768e655-3100-4824-b49b-1f2851f1e792",
   "metadata": {
    "tags": []
   },
   "outputs": [],
   "source": []
  },
  {
   "cell_type": "code",
   "execution_count": 15,
   "id": "6534a66b-1fef-4310-9e3e-da45ff1e924a",
   "metadata": {
    "tags": []
   },
   "outputs": [],
   "source": [
    "df_merged2 = pd.concat([df_mainnet2, df_preprod2, df_preview2])\n",
    "# df_merged2"
   ]
  },
  {
   "cell_type": "code",
   "execution_count": 16,
   "id": "c9fadc7f-87c2-4253-92f7-d68dd779c5f4",
   "metadata": {
    "tags": []
   },
   "outputs": [],
   "source": [
    "df_merged2 = df_merged2.astype({'creations':'int', 'closures':'int', 'active':'int', 'transactions':'int', 'ada_transacted':'int', 'payment_addresses':'int', 'stake_addresses':'int'})\n",
    "# df_merged2"
   ]
  },
  {
   "cell_type": "code",
   "execution_count": 17,
   "id": "35d664fc-af21-41da-a0da-8546f6185d49",
   "metadata": {
    "tags": []
   },
   "outputs": [
    {
     "data": {
      "text/plain": [
       "11"
      ]
     },
     "execution_count": 17,
     "metadata": {},
     "output_type": "execute_result"
    }
   ],
   "source": [
    "df_merged2.to_sql(name='merged_trend_by_slots', con=engine_mainnet, if_exists='replace', schema='analysis', index=True)"
   ]
  },
  {
   "cell_type": "code",
   "execution_count": null,
   "id": "b4cb347a-a32b-4a2c-86f9-6b2f39f8ed97",
   "metadata": {},
   "outputs": [],
   "source": []
  },
  {
   "cell_type": "markdown",
   "id": "8194b2ac-b324-49c4-b035-7c2e9de0bdb9",
   "metadata": {},
   "source": [
    "# contracts"
   ]
  },
  {
   "cell_type": "code",
   "execution_count": 18,
   "id": "5fedfdb3-756e-45cb-a490-31cd8bae3fab",
   "metadata": {
    "tags": []
   },
   "outputs": [],
   "source": [
    "df_mainnet = pd.read_sql('SELECT * FROM analysis.contracts', engine_mainnet)\n",
    "df_preprod = pd.read_sql('SELECT * FROM analysis.contracts', engine_preprod)\n",
    "df_preview = pd.read_sql('SELECT * FROM analysis.contracts', engine_preview)"
   ]
  },
  {
   "cell_type": "code",
   "execution_count": 19,
   "id": "bd003d77-b2ac-47cc-9bea-c7020e75a74b",
   "metadata": {
    "tags": []
   },
   "outputs": [],
   "source": [
    "def count_by_tag(df, network):\n",
    "    tmp_df = df.groupby(['tag'])['id'].count()\n",
    "    tmp_df = tmp_df.to_frame()\n",
    "    tmp_df = tmp_df.rename(columns={\"id\": \"count\"})\n",
    "    tmp_df['network'] = network\n",
    "    tmp_df = tmp_df.reset_index()\n",
    "    return tmp_df\n",
    "\n",
    "df_mainnet = count_by_tag(df_mainnet, 'mainnet')\n",
    "df_preprod = count_by_tag(df_preprod, 'preprod')\n",
    "df_preview = count_by_tag(df_preview, 'preview')"
   ]
  },
  {
   "cell_type": "code",
   "execution_count": 20,
   "id": "f8ab74d3-8380-4dbd-b953-3505c552d8c4",
   "metadata": {
    "tags": []
   },
   "outputs": [
    {
     "data": {
      "text/html": [
       "<div>\n",
       "<style scoped>\n",
       "    .dataframe tbody tr th:only-of-type {\n",
       "        vertical-align: middle;\n",
       "    }\n",
       "\n",
       "    .dataframe tbody tr th {\n",
       "        vertical-align: top;\n",
       "    }\n",
       "\n",
       "    .dataframe thead th {\n",
       "        text-align: right;\n",
       "    }\n",
       "</style>\n",
       "<table border=\"1\" class=\"dataframe\">\n",
       "  <thead>\n",
       "    <tr style=\"text-align: right;\">\n",
       "      <th></th>\n",
       "      <th>tag</th>\n",
       "      <th>count</th>\n",
       "      <th>network</th>\n",
       "    </tr>\n",
       "  </thead>\n",
       "  <tbody>\n",
       "    <tr>\n",
       "      <th>0</th>\n",
       "      <td>run-lite</td>\n",
       "      <td>17</td>\n",
       "      <td>mainnet</td>\n",
       "    </tr>\n",
       "    <tr>\n",
       "      <th>0</th>\n",
       "      <td>\"marlowe.examples.vesting.v0.0.5\";</td>\n",
       "      <td>1</td>\n",
       "      <td>preprod</td>\n",
       "    </tr>\n",
       "    <tr>\n",
       "      <th>1</th>\n",
       "      <td>5july2023</td>\n",
       "      <td>2811</td>\n",
       "      <td>preprod</td>\n",
       "    </tr>\n",
       "    <tr>\n",
       "      <th>2</th>\n",
       "      <td>CryptoPall2023</td>\n",
       "      <td>3</td>\n",
       "      <td>preprod</td>\n",
       "    </tr>\n",
       "    <tr>\n",
       "      <th>3</th>\n",
       "      <td>DAPP_TAG</td>\n",
       "      <td>2</td>\n",
       "      <td>preprod</td>\n",
       "    </tr>\n",
       "    <tr>\n",
       "      <th>...</th>\n",
       "      <td>...</td>\n",
       "      <td>...</td>\n",
       "      <td>...</td>\n",
       "    </tr>\n",
       "    <tr>\n",
       "      <th>16</th>\n",
       "      <td>run-lite-addr_test1qz7x6uvv4ay95udmxz4wv98m6g8...</td>\n",
       "      <td>2</td>\n",
       "      <td>preview</td>\n",
       "    </tr>\n",
       "    <tr>\n",
       "      <th>17</th>\n",
       "      <td>run-lite-addr_test1qzn6u4ffhafpfvsw876wxllvvae...</td>\n",
       "      <td>5</td>\n",
       "      <td>preview</td>\n",
       "    </tr>\n",
       "    <tr>\n",
       "      <th>18</th>\n",
       "      <td>swap.L1.by.marlowe.team</td>\n",
       "      <td>2</td>\n",
       "      <td>preview</td>\n",
       "    </tr>\n",
       "    <tr>\n",
       "      <th>19</th>\n",
       "      <td>swap.L1.dapp.by.marlowe.team</td>\n",
       "      <td>3</td>\n",
       "      <td>preview</td>\n",
       "    </tr>\n",
       "    <tr>\n",
       "      <th>20</th>\n",
       "      <td>swap.react.demo</td>\n",
       "      <td>4</td>\n",
       "      <td>preview</td>\n",
       "    </tr>\n",
       "  </tbody>\n",
       "</table>\n",
       "<p>92 rows × 3 columns</p>\n",
       "</div>"
      ],
      "text/plain": [
       "                                                  tag  count  network\n",
       "0                                            run-lite     17  mainnet\n",
       "0                  \"marlowe.examples.vesting.v0.0.5\";      1  preprod\n",
       "1                                           5july2023   2811  preprod\n",
       "2                                      CryptoPall2023      3  preprod\n",
       "3                                            DAPP_TAG      2  preprod\n",
       "..                                                ...    ...      ...\n",
       "16  run-lite-addr_test1qz7x6uvv4ay95udmxz4wv98m6g8...      2  preview\n",
       "17  run-lite-addr_test1qzn6u4ffhafpfvsw876wxllvvae...      5  preview\n",
       "18                            swap.L1.by.marlowe.team      2  preview\n",
       "19                       swap.L1.dapp.by.marlowe.team      3  preview\n",
       "20                                    swap.react.demo      4  preview\n",
       "\n",
       "[92 rows x 3 columns]"
      ]
     },
     "execution_count": 20,
     "metadata": {},
     "output_type": "execute_result"
    }
   ],
   "source": [
    "df_merged = pd.concat([df_mainnet, df_preprod, df_preview])\n",
    "df_merged\n"
   ]
  },
  {
   "cell_type": "code",
   "execution_count": 21,
   "id": "39401e86-560a-4246-a930-31a35f4ef2f4",
   "metadata": {
    "tags": []
   },
   "outputs": [
    {
     "data": {
      "text/plain": [
       "92"
      ]
     },
     "execution_count": 21,
     "metadata": {},
     "output_type": "execute_result"
    }
   ],
   "source": [
    "df_merged.to_sql(name='merged_count_contracts_by_tags', con=engine_mainnet, if_exists='replace', schema='analysis', index=False)"
   ]
  }
 ],
 "metadata": {
  "kernelspec": {
   "display_name": "conda_python3",
   "language": "python",
   "name": "conda_python3"
  },
  "language_info": {
   "codemirror_mode": {
    "name": "ipython",
    "version": 3
   },
   "file_extension": ".py",
   "mimetype": "text/x-python",
   "name": "python",
   "nbconvert_exporter": "python",
   "pygments_lexer": "ipython3",
   "version": "3.10.13"
  }
 },
 "nbformat": 4,
 "nbformat_minor": 5
}
