{
 "cells": [
  {
   "cell_type": "code",
   "execution_count": 1,
   "id": "312ea185",
   "metadata": {},
   "outputs": [],
   "source": [
    "import sqlalchemy\n",
    "import pandas as pd\n",
    "from sklearn.feature_extraction.text import TfidfVectorizer\n",
    "from sklearn.metrics.pairwise import cosine_similarity\n",
    "from sklearn.decomposition import TruncatedSVD\n",
    "\n",
    "import webbrowser\n",
    "import plotly.graph_objs as go\n",
    "import plotly.express as px\n"
   ]
  },
  {
   "cell_type": "markdown",
   "id": "04c71b50",
   "metadata": {},
   "source": []
  },
  {
   "cell_type": "code",
   "execution_count": 2,
   "id": "3e5c8be5",
   "metadata": {},
   "outputs": [],
   "source": [
    "cardanoscan_url = 'https://preprod.cardanoscan.io/transaction/'\n",
    "\n",
    "open_url = 'https://preprod.marlowescan.com/contractView?tab=info&contractId='\n"
   ]
  },
  {
   "cell_type": "code",
   "execution_count": 3,
   "id": "41e159c3",
   "metadata": {},
   "outputs": [],
   "source": [
    "engine = sqlalchemy.create_engine('postgresql://jingles:@127.0.0.1:5432/marlowemerged')"
   ]
  },
  {
   "cell_type": "code",
   "execution_count": 4,
   "id": "df92c28e",
   "metadata": {},
   "outputs": [
    {
     "data": {
      "text/plain": [
       "6014"
      ]
     },
     "execution_count": 4,
     "metadata": {},
     "output_type": "execute_result"
    }
   ],
   "source": [
    "df = pd.read_sql('SELECT slotno, txid_hex, datumbytes_hex FROM marlowe.contracts', engine)\n",
    "df.shape[0]"
   ]
  },
  {
   "cell_type": "code",
   "execution_count": 5,
   "id": "5230dcc1",
   "metadata": {},
   "outputs": [
    {
     "data": {
      "text/plain": [
       "6014"
      ]
     },
     "execution_count": 5,
     "metadata": {},
     "output_type": "execute_result"
    }
   ],
   "source": [
    "df = df.drop_duplicates('txid_hex', keep='first')\n",
    "df.shape[0]"
   ]
  },
  {
   "cell_type": "code",
   "execution_count": 6,
   "id": "0faa17fc",
   "metadata": {},
   "outputs": [],
   "source": [
    "n = 2\n",
    "def stringToSent(val):\n",
    "  words = [(val[i:i+n]) for i in range(0, len(val), n)]\n",
    "  sentence = ' '.join(words)\n",
    "  return sentence\n",
    "\n",
    "df['sent'] = df.apply(lambda row: stringToSent(row['datumbytes_hex']),axis=1)\n",
    "df['length'] = df.apply(lambda row: len(row['sent'].split()),axis=1)"
   ]
  },
  {
   "cell_type": "code",
   "execution_count": 7,
   "id": "7afa0a00",
   "metadata": {},
   "outputs": [
    {
     "name": "stdout",
     "output_type": "stream",
     "text": [
      "(6014, 256)\n"
     ]
    }
   ],
   "source": [
    "vectorizer = TfidfVectorizer()\n",
    "tfidf_matrix = vectorizer.fit_transform(df['sent'])\n",
    "print(tfidf_matrix.shape)"
   ]
  },
  {
   "cell_type": "code",
   "execution_count": 8,
   "id": "6a0a8ec5",
   "metadata": {},
   "outputs": [
    {
     "name": "stdout",
     "output_type": "stream",
     "text": [
      "(6014, 2)\n"
     ]
    },
    {
     "data": {
      "text/plain": [
       "array([[ 0.75953503, -0.12919283],\n",
       "       [ 0.91768267, -0.01763109],\n",
       "       [ 0.79726088, -0.13263937],\n",
       "       ...,\n",
       "       [ 0.84337763, -0.09066172],\n",
       "       [ 0.85142947, -0.24187709],\n",
       "       [ 0.81591371, -0.12271654]])"
      ]
     },
     "execution_count": 8,
     "metadata": {},
     "output_type": "execute_result"
    }
   ],
   "source": [
    "clf = TruncatedSVD(2)\n",
    "pca = clf.fit_transform(tfidf_matrix)\n",
    "print(pca.shape)\n",
    "pca"
   ]
  },
  {
   "cell_type": "code",
   "execution_count": 9,
   "id": "0d452add",
   "metadata": {},
   "outputs": [],
   "source": [
    "df['x'] = pca[:,0]\n",
    "df['y'] = pca[:,1]"
   ]
  },
  {
   "cell_type": "code",
   "execution_count": null,
   "id": "024b7525",
   "metadata": {},
   "outputs": [],
   "source": []
  },
  {
   "cell_type": "code",
   "execution_count": 10,
   "id": "3902bdab",
   "metadata": {},
   "outputs": [
    {
     "data": {
      "application/vnd.jupyter.widget-view+json": {
       "model_id": "7cbdca0df3064926a850a461dfa6df24",
       "version_major": 2,
       "version_minor": 0
      },
      "text/plain": [
       "FigureWidget({\n",
       "    'data': [{'type': 'box',\n",
       "              'uid': 'fc9661df-1fc6-443a-9085-1215e870cf50',\n",
       "              'y': array([1686,  221,  402, ..., 1258,  597, 1634])}],\n",
       "    'layout': {'autosize': False,\n",
       "               'height': 800,\n",
       "               'template': '...',\n",
       "               'title': {'text': 'Contracts Sizes'},\n",
       "               'width': 800,\n",
       "               'xaxis': {'title': {'text': ''}},\n",
       "               'yaxis': {'title': {'text': 'Size'}}}\n",
       "})"
      ]
     },
     "execution_count": 10,
     "metadata": {},
     "output_type": "execute_result"
    }
   ],
   "source": [
    "fig = go.FigureWidget([go.Box(y=df.length)])\n",
    "\n",
    "def do_click(trace, points, state):\n",
    "    if points.point_inds:\n",
    "        ind = points.point_inds[0]\n",
    "        url = df.txid_hex.iloc[ind]\n",
    "        webbrowser.open_new_tab(open_url+url+'%231')\n",
    "\n",
    "scatter=fig.data[0]\n",
    "scatter.on_click(do_click)\n",
    "\n",
    "fig.update_layout(\n",
    "    autosize=False,\n",
    "    width=800,\n",
    "    height=800,\n",
    "    title=\"Contracts Sizes\",\n",
    "    xaxis_title=\"\",\n",
    "    yaxis_title=\"Size\",\n",
    ")\n",
    "\n",
    "fig"
   ]
  },
  {
   "cell_type": "code",
   "execution_count": 11,
   "id": "066607a4",
   "metadata": {},
   "outputs": [
    {
     "data": {
      "application/vnd.jupyter.widget-view+json": {
       "model_id": "648e3f5c3a8943ed80d5fab055e5a08a",
       "version_major": 2,
       "version_minor": 0
      },
      "text/plain": [
       "FigureWidget({\n",
       "    'data': [{'mode': 'markers',\n",
       "              'type': 'scatter',\n",
       "              'uid': '21d80622-7f21-44a3-82c8-89a6ecc6ae50',\n",
       "              'x': array([20681601, 16637332, 14401271, ..., 30911714, 30654339, 19041486]),\n",
       "              'y': array([1686,  221,  402, ..., 1258,  597, 1634])}],\n",
       "    'layout': {'autosize': False,\n",
       "               'height': 600,\n",
       "               'template': '...',\n",
       "               'title': {'text': 'Contracts over time by size'},\n",
       "               'width': 1500,\n",
       "               'xaxis': {'title': {'text': ''}},\n",
       "               'yaxis': {'title': {'text': ''}}}\n",
       "})"
      ]
     },
     "execution_count": 11,
     "metadata": {},
     "output_type": "execute_result"
    }
   ],
   "source": [
    "fig = go.FigureWidget([go.Scatter(x=df.slotno, y=df.length, mode='markers')])\n",
    "\n",
    "def do_click(trace, points, state):\n",
    "    if points.point_inds:\n",
    "        ind = points.point_inds[0]\n",
    "        url = df.txid_hex.iloc[ind]\n",
    "        webbrowser.open_new_tab(open_url+url+'%231')\n",
    "\n",
    "scatter=fig.data[0]\n",
    "scatter.on_click(do_click)\n",
    "\n",
    "fig.update_layout(\n",
    "    autosize=False,\n",
    "    width=1500,\n",
    "    height=600,\n",
    "    title=\"Contracts over time by size\",\n",
    "    xaxis_title=\"\",\n",
    "    yaxis_title=\"\",\n",
    ")\n",
    "\n",
    "fig"
   ]
  },
  {
   "cell_type": "code",
   "execution_count": 12,
   "id": "19b78f24",
   "metadata": {},
   "outputs": [
    {
     "data": {
      "application/vnd.jupyter.widget-view+json": {
       "model_id": "154a40add7054770aa10b6996f6aed16",
       "version_major": 2,
       "version_minor": 0
      },
      "text/plain": [
       "FigureWidget({\n",
       "    'data': [{'mode': 'markers',\n",
       "              'type': 'scatter',\n",
       "              'uid': 'eae0706e-5425-4e4d-b892-232fd03dc428',\n",
       "              'x': array([0.75953503, 0.91768267, 0.79726088, ..., 0.84337763, 0.85142947,\n",
       "                          0.81591371]),\n",
       "              'y': array([-0.12919283, -0.01763109, -0.13263937, ..., -0.09066172, -0.24187709,\n",
       "                          -0.12271654])}],\n",
       "    'layout': {'autosize': False,\n",
       "               'height': 800,\n",
       "               'template': '...',\n",
       "               'title': {'text': 'Contracts Clusters'},\n",
       "               'width': 800,\n",
       "               'xaxis': {'title': {'text': ''}},\n",
       "               'yaxis': {'title': {'text': ''}}}\n",
       "})"
      ]
     },
     "execution_count": 12,
     "metadata": {},
     "output_type": "execute_result"
    }
   ],
   "source": [
    "fig = go.FigureWidget([go.Scatter(x=df.x, y=df.y, mode='markers')])\n",
    "\n",
    "def do_click(trace, points, state):\n",
    "    if points.point_inds:\n",
    "        ind = points.point_inds[0]\n",
    "        url = df.txid_hex.iloc[ind]\n",
    "        webbrowser.open_new_tab(open_url+url+'%231')\n",
    "\n",
    "scatter=fig.data[0]\n",
    "scatter.on_click(do_click)\n",
    "\n",
    "fig.update_layout(\n",
    "    autosize=False,\n",
    "    width=800,\n",
    "    height=800,\n",
    "    title=\"Contracts Clusters\",\n",
    "    xaxis_title=\"\",\n",
    "    yaxis_title=\"\",\n",
    ")\n",
    "\n",
    "fig"
   ]
  },
  {
   "cell_type": "code",
   "execution_count": null,
   "id": "b4a4f369",
   "metadata": {},
   "outputs": [],
   "source": []
  },
  {
   "cell_type": "code",
   "execution_count": null,
   "id": "4916c4a2",
   "metadata": {},
   "outputs": [],
   "source": []
  },
  {
   "cell_type": "code",
   "execution_count": null,
   "id": "cbe17e5d",
   "metadata": {},
   "outputs": [],
   "source": []
  },
  {
   "cell_type": "code",
   "execution_count": null,
   "id": "c7aa64cb",
   "metadata": {},
   "outputs": [],
   "source": []
  },
  {
   "cell_type": "code",
   "execution_count": 13,
   "id": "1a721b3a",
   "metadata": {},
   "outputs": [],
   "source": [
    "# df.to_sql(name='contracts_clusters', con=engine, if_exists='replace', schema='marlowe', index=False)"
   ]
  },
  {
   "cell_type": "code",
   "execution_count": 14,
   "id": "6ceddd93",
   "metadata": {},
   "outputs": [],
   "source": [
    "# cosine_sim = cosine_similarity(tfidf_matrix, tfidf_matrix)"
   ]
  },
  {
   "cell_type": "code",
   "execution_count": null,
   "id": "a27906b0",
   "metadata": {},
   "outputs": [],
   "source": []
  },
  {
   "cell_type": "code",
   "execution_count": 26,
   "id": "f1b23896",
   "metadata": {},
   "outputs": [
    {
     "data": {
      "text/plain": [
       "Index               128\n",
       "slotno            48112\n",
       "txid_hex          48112\n",
       "datumbytes_hex    48112\n",
       "sent              48112\n",
       "length            48112\n",
       "x                 48112\n",
       "y                 48112\n",
       "cluster           48112\n",
       "dtype: int64"
      ]
     },
     "execution_count": 26,
     "metadata": {},
     "output_type": "execute_result"
    }
   ],
   "source": []
  },
  {
   "cell_type": "code",
   "execution_count": 15,
   "id": "c6a3d2fc",
   "metadata": {},
   "outputs": [],
   "source": [
    "from sklearn.cluster import SpectralClustering\n",
    "import numpy as np\n"
   ]
  },
  {
   "cell_type": "code",
   "execution_count": 16,
   "id": "13faba75",
   "metadata": {},
   "outputs": [],
   "source": [
    "clustering = SpectralClustering(\n",
    "  n_clusters=6, assign_labels='discretize', random_state=0).fit(tfidf_matrix)\n",
    "df['cluster'] = clustering.labels_"
   ]
  },
  {
   "cell_type": "code",
   "execution_count": 17,
   "id": "dcd5c0b8",
   "metadata": {},
   "outputs": [
    {
     "data": {
      "application/vnd.jupyter.widget-view+json": {
       "model_id": "98f1aef20618447092f21cb4a1275b9c",
       "version_major": 2,
       "version_minor": 0
      },
      "text/plain": [
       "FigureWidget({\n",
       "    'data': [{'marker': {'color': array([3, 3, 3, ..., 3, 1, 3]),\n",
       "                         'colorscale': [[0.0, 'rgb(255,255,204)'], [0.125,\n",
       "                                        'rgb(255,237,160)'], [0.25,\n",
       "                                        'rgb(254,217,118)'], [0.375,\n",
       "                                        'rgb(254,178,76)'], [0.5,\n",
       "                                        'rgb(253,141,60)'], [0.625,\n",
       "                                        'rgb(252,78,42)'], [0.75,\n",
       "                                        'rgb(227,26,28)'], [0.875,\n",
       "                                        'rgb(189,0,38)'], [1.0, 'rgb(128,0,38)']]},\n",
       "              'mode': 'markers',\n",
       "              'type': 'scatter',\n",
       "              'uid': 'a3bbd7e5-b5cc-4dfc-b84e-f921d0ce1a92',\n",
       "              'x': array([0.75953503, 0.91768267, 0.79726088, ..., 0.84337763, 0.85142947,\n",
       "                          0.81591371]),\n",
       "              'y': array([-0.12919283, -0.01763109, -0.13263937, ..., -0.09066172, -0.24187709,\n",
       "                          -0.12271654])}],\n",
       "    'layout': {'autosize': False,\n",
       "               'height': 800,\n",
       "               'template': '...',\n",
       "               'title': {'text': 'Contracts Clusters'},\n",
       "               'width': 800,\n",
       "               'xaxis': {'title': {'text': ''}},\n",
       "               'yaxis': {'title': {'text': ''}}}\n",
       "})"
      ]
     },
     "execution_count": 17,
     "metadata": {},
     "output_type": "execute_result"
    }
   ],
   "source": [
    "fig = go.FigureWidget([go.Scatter(\n",
    "    x=df.x, \n",
    "    y=df.y, \n",
    "    mode='markers',\n",
    "    marker={'color': df['cluster'], 'colorscale': 'YlOrRd'},\n",
    ")])\n",
    "\n",
    "def do_click(trace, points, state):\n",
    "    if points.point_inds:\n",
    "        ind = points.point_inds[0]\n",
    "        url = df.txid_hex.iloc[ind]\n",
    "        webbrowser.open_new_tab(open_url+url+'%231')\n",
    "\n",
    "scatter=fig.data[0]\n",
    "scatter.on_click(do_click)\n",
    "\n",
    "fig.update_layout(\n",
    "    autosize=False,\n",
    "    width=800,\n",
    "    height=800,\n",
    "    title=\"Contracts Clusters\",\n",
    "    xaxis_title=\"\",\n",
    "    yaxis_title=\"\",\n",
    ")\n",
    "\n",
    "fig"
   ]
  },
  {
   "cell_type": "code",
   "execution_count": null,
   "id": "1802eea0",
   "metadata": {},
   "outputs": [],
   "source": []
  },
  {
   "cell_type": "code",
   "execution_count": 19,
   "id": "c67483ca",
   "metadata": {},
   "outputs": [],
   "source": [
    "# train"
   ]
  },
  {
   "cell_type": "code",
   "execution_count": 20,
   "id": "a33c6b70",
   "metadata": {},
   "outputs": [
    {
     "name": "stdout",
     "output_type": "stream",
     "text": [
      "(6014, 256)\n"
     ]
    }
   ],
   "source": [
    "print(tfidf_matrix.shape)"
   ]
  },
  {
   "cell_type": "code",
   "execution_count": 22,
   "id": "acd8ed18",
   "metadata": {},
   "outputs": [
    {
     "data": {
      "text/html": [
       "<div>\n",
       "<style scoped>\n",
       "    .dataframe tbody tr th:only-of-type {\n",
       "        vertical-align: middle;\n",
       "    }\n",
       "\n",
       "    .dataframe tbody tr th {\n",
       "        vertical-align: top;\n",
       "    }\n",
       "\n",
       "    .dataframe thead th {\n",
       "        text-align: right;\n",
       "    }\n",
       "</style>\n",
       "<table border=\"1\" class=\"dataframe\">\n",
       "  <thead>\n",
       "    <tr style=\"text-align: right;\">\n",
       "      <th></th>\n",
       "      <th>id</th>\n",
       "      <th>label</th>\n",
       "    </tr>\n",
       "  </thead>\n",
       "  <tbody>\n",
       "    <tr>\n",
       "      <th>0</th>\n",
       "      <td>80663288260a0c197f2962e0c66c3536e14ac55c41f367...</td>\n",
       "      <td>0</td>\n",
       "    </tr>\n",
       "    <tr>\n",
       "      <th>1</th>\n",
       "      <td>e839ffb1bebf8564eca7260fb2d525f0c77034e49cc5cc...</td>\n",
       "      <td>1</td>\n",
       "    </tr>\n",
       "    <tr>\n",
       "      <th>2</th>\n",
       "      <td>f9849a6c4182c500d8bf0517ed94671e9f95d6abcf460b...</td>\n",
       "      <td>1</td>\n",
       "    </tr>\n",
       "    <tr>\n",
       "      <th>3</th>\n",
       "      <td>72f1f7174a420a12bed5873d0131f8d336315d6a25d92d...</td>\n",
       "      <td>2</td>\n",
       "    </tr>\n",
       "    <tr>\n",
       "      <th>4</th>\n",
       "      <td>49ddd677a802474e28bf93f45219f2173933e9f6084d52...</td>\n",
       "      <td>2</td>\n",
       "    </tr>\n",
       "  </tbody>\n",
       "</table>\n",
       "</div>"
      ],
      "text/plain": [
       "                                                  id  label\n",
       "0  80663288260a0c197f2962e0c66c3536e14ac55c41f367...      0\n",
       "1  e839ffb1bebf8564eca7260fb2d525f0c77034e49cc5cc...      1\n",
       "2  f9849a6c4182c500d8bf0517ed94671e9f95d6abcf460b...      1\n",
       "3  72f1f7174a420a12bed5873d0131f8d336315d6a25d92d...      2\n",
       "4  49ddd677a802474e28bf93f45219f2173933e9f6084d52...      2"
      ]
     },
     "execution_count": 22,
     "metadata": {},
     "output_type": "execute_result"
    }
   ],
   "source": [
    "df_contractslabels = pd.read_sql('SELECT * FROM marlowe.contracts_labels', engine)\n",
    "df_contractslabels"
   ]
  },
  {
   "cell_type": "code",
   "execution_count": 25,
   "id": "85e9f96d",
   "metadata": {},
   "outputs": [
    {
     "data": {
      "text/plain": [
       "['80663288260a0c197f2962e0c66c3536e14ac55c41f3673d692d278f6eb76cda',\n",
       " 'e839ffb1bebf8564eca7260fb2d525f0c77034e49cc5cc80a83f7f9b9bf1a3e1',\n",
       " 'f9849a6c4182c500d8bf0517ed94671e9f95d6abcf460b9052657f5f6ab64493',\n",
       " '72f1f7174a420a12bed5873d0131f8d336315d6a25d92d06863531f243d3143c',\n",
       " '49ddd677a802474e28bf93f45219f2173933e9f6084d5228e646ea25bc345dfe']"
      ]
     },
     "execution_count": 25,
     "metadata": {},
     "output_type": "execute_result"
    }
   ],
   "source": [
    "df_contractslabels['id'].to_list()"
   ]
  },
  {
   "cell_type": "code",
   "execution_count": 23,
   "id": "3cbb716d",
   "metadata": {},
   "outputs": [
    {
     "data": {
      "text/html": [
       "<div>\n",
       "<style scoped>\n",
       "    .dataframe tbody tr th:only-of-type {\n",
       "        vertical-align: middle;\n",
       "    }\n",
       "\n",
       "    .dataframe tbody tr th {\n",
       "        vertical-align: top;\n",
       "    }\n",
       "\n",
       "    .dataframe thead th {\n",
       "        text-align: right;\n",
       "    }\n",
       "</style>\n",
       "<table border=\"1\" class=\"dataframe\">\n",
       "  <thead>\n",
       "    <tr style=\"text-align: right;\">\n",
       "      <th></th>\n",
       "      <th>slotno</th>\n",
       "      <th>txid_hex</th>\n",
       "      <th>datumbytes_hex</th>\n",
       "      <th>sent</th>\n",
       "      <th>length</th>\n",
       "      <th>x</th>\n",
       "      <th>y</th>\n",
       "      <th>cluster</th>\n",
       "    </tr>\n",
       "  </thead>\n",
       "  <tbody>\n",
       "    <tr>\n",
       "      <th>0</th>\n",
       "      <td>20681601</td>\n",
       "      <td>000a5348883fb3c0b96936cb7a51787024b9b71b31de80...</td>\n",
       "      <td>d8799fd8799f40ffd8799fa1d8799fd8799fd87980d879...</td>\n",
       "      <td>d8 79 9f d8 79 9f 40 ff d8 79 9f a1 d8 79 9f d...</td>\n",
       "      <td>1686</td>\n",
       "      <td>0.759535</td>\n",
       "      <td>-0.129193</td>\n",
       "      <td>3</td>\n",
       "    </tr>\n",
       "    <tr>\n",
       "      <th>1</th>\n",
       "      <td>16637332</td>\n",
       "      <td>000fd04097339261e47db646ca0c597669e215846773ef...</td>\n",
       "      <td>d8799fd8799f40ffd8799fa1d8799fd8799fd87980d879...</td>\n",
       "      <td>d8 79 9f d8 79 9f 40 ff d8 79 9f a1 d8 79 9f d...</td>\n",
       "      <td>221</td>\n",
       "      <td>0.917683</td>\n",
       "      <td>-0.017631</td>\n",
       "      <td>3</td>\n",
       "    </tr>\n",
       "    <tr>\n",
       "      <th>2</th>\n",
       "      <td>14401271</td>\n",
       "      <td>0014afa55bcfa78e41c8312a34fab4261c98565a37f1a0...</td>\n",
       "      <td>d8799fd8799f40ffd8799fa1d8799fd8799fd87980d879...</td>\n",
       "      <td>d8 79 9f d8 79 9f 40 ff d8 79 9f a1 d8 79 9f d...</td>\n",
       "      <td>402</td>\n",
       "      <td>0.797261</td>\n",
       "      <td>-0.132639</td>\n",
       "      <td>3</td>\n",
       "    </tr>\n",
       "    <tr>\n",
       "      <th>3</th>\n",
       "      <td>30644824</td>\n",
       "      <td>0024f31fea21a4161cdb1d735fc9f11d595435ba2018fb...</td>\n",
       "      <td>d8799fd8799f40ffd8799fa1d8799fd8799fd87980d879...</td>\n",
       "      <td>d8 79 9f d8 79 9f 40 ff d8 79 9f a1 d8 79 9f d...</td>\n",
       "      <td>597</td>\n",
       "      <td>0.853370</td>\n",
       "      <td>-0.177754</td>\n",
       "      <td>1</td>\n",
       "    </tr>\n",
       "    <tr>\n",
       "      <th>4</th>\n",
       "      <td>32152686</td>\n",
       "      <td>002b0898ba9ed01da644ca4cdba510106fdb7b92ad5e1a...</td>\n",
       "      <td>d8799fd8799f581c8bb3b343d8e404472337966a722150...</td>\n",
       "      <td>d8 79 9f d8 79 9f 58 1c 8b b3 b3 43 d8 e4 04 4...</td>\n",
       "      <td>318</td>\n",
       "      <td>0.930408</td>\n",
       "      <td>0.283889</td>\n",
       "      <td>0</td>\n",
       "    </tr>\n",
       "    <tr>\n",
       "      <th>...</th>\n",
       "      <td>...</td>\n",
       "      <td>...</td>\n",
       "      <td>...</td>\n",
       "      <td>...</td>\n",
       "      <td>...</td>\n",
       "      <td>...</td>\n",
       "      <td>...</td>\n",
       "      <td>...</td>\n",
       "    </tr>\n",
       "    <tr>\n",
       "      <th>6009</th>\n",
       "      <td>34551112</td>\n",
       "      <td>ffb5620543c91fee43977df129c6affc1329a3cb83f5a6...</td>\n",
       "      <td>d8799fd8799f40ffd8799fa1d8799fd8799fd87980d879...</td>\n",
       "      <td>d8 79 9f d8 79 9f 40 ff d8 79 9f a1 d8 79 9f d...</td>\n",
       "      <td>283</td>\n",
       "      <td>0.765153</td>\n",
       "      <td>-0.092079</td>\n",
       "      <td>3</td>\n",
       "    </tr>\n",
       "    <tr>\n",
       "      <th>6010</th>\n",
       "      <td>16397028</td>\n",
       "      <td>ffc6ba56d15e7cd0f67604da030a54fb26991a63611d92...</td>\n",
       "      <td>d8799fd8799f40ffd8799fa1d8799fd8799fd87980d879...</td>\n",
       "      <td>d8 79 9f d8 79 9f 40 ff d8 79 9f a1 d8 79 9f d...</td>\n",
       "      <td>713</td>\n",
       "      <td>0.806228</td>\n",
       "      <td>-0.064732</td>\n",
       "      <td>4</td>\n",
       "    </tr>\n",
       "    <tr>\n",
       "      <th>6011</th>\n",
       "      <td>30911714</td>\n",
       "      <td>ffccac42ba58c88fd5e96c93b97789902cb0028517a08f...</td>\n",
       "      <td>d8799fd8799f40ffd8799fa1d8799fd8799fd87980d879...</td>\n",
       "      <td>d8 79 9f d8 79 9f 40 ff d8 79 9f a1 d8 79 9f d...</td>\n",
       "      <td>1258</td>\n",
       "      <td>0.843378</td>\n",
       "      <td>-0.090662</td>\n",
       "      <td>3</td>\n",
       "    </tr>\n",
       "    <tr>\n",
       "      <th>6012</th>\n",
       "      <td>30654339</td>\n",
       "      <td>ffe7b10f8bbb4f6a5bba759fa0d2c091c904356de5b3eb...</td>\n",
       "      <td>d8799fd8799f40ffd8799fa1d8799fd8799fd87980d879...</td>\n",
       "      <td>d8 79 9f d8 79 9f 40 ff d8 79 9f a1 d8 79 9f d...</td>\n",
       "      <td>597</td>\n",
       "      <td>0.851429</td>\n",
       "      <td>-0.241877</td>\n",
       "      <td>1</td>\n",
       "    </tr>\n",
       "    <tr>\n",
       "      <th>6013</th>\n",
       "      <td>19041486</td>\n",
       "      <td>fff21adbd1ac5a5695109256e7d4e8d26b51e8d734987a...</td>\n",
       "      <td>d8799fd8799f40ffd8799fa1d8799fd8799fd87980d879...</td>\n",
       "      <td>d8 79 9f d8 79 9f 40 ff d8 79 9f a1 d8 79 9f d...</td>\n",
       "      <td>1634</td>\n",
       "      <td>0.815914</td>\n",
       "      <td>-0.122717</td>\n",
       "      <td>3</td>\n",
       "    </tr>\n",
       "  </tbody>\n",
       "</table>\n",
       "<p>6014 rows × 8 columns</p>\n",
       "</div>"
      ],
      "text/plain": [
       "        slotno                                           txid_hex  \\\n",
       "0     20681601  000a5348883fb3c0b96936cb7a51787024b9b71b31de80...   \n",
       "1     16637332  000fd04097339261e47db646ca0c597669e215846773ef...   \n",
       "2     14401271  0014afa55bcfa78e41c8312a34fab4261c98565a37f1a0...   \n",
       "3     30644824  0024f31fea21a4161cdb1d735fc9f11d595435ba2018fb...   \n",
       "4     32152686  002b0898ba9ed01da644ca4cdba510106fdb7b92ad5e1a...   \n",
       "...        ...                                                ...   \n",
       "6009  34551112  ffb5620543c91fee43977df129c6affc1329a3cb83f5a6...   \n",
       "6010  16397028  ffc6ba56d15e7cd0f67604da030a54fb26991a63611d92...   \n",
       "6011  30911714  ffccac42ba58c88fd5e96c93b97789902cb0028517a08f...   \n",
       "6012  30654339  ffe7b10f8bbb4f6a5bba759fa0d2c091c904356de5b3eb...   \n",
       "6013  19041486  fff21adbd1ac5a5695109256e7d4e8d26b51e8d734987a...   \n",
       "\n",
       "                                         datumbytes_hex  \\\n",
       "0     d8799fd8799f40ffd8799fa1d8799fd8799fd87980d879...   \n",
       "1     d8799fd8799f40ffd8799fa1d8799fd8799fd87980d879...   \n",
       "2     d8799fd8799f40ffd8799fa1d8799fd8799fd87980d879...   \n",
       "3     d8799fd8799f40ffd8799fa1d8799fd8799fd87980d879...   \n",
       "4     d8799fd8799f581c8bb3b343d8e404472337966a722150...   \n",
       "...                                                 ...   \n",
       "6009  d8799fd8799f40ffd8799fa1d8799fd8799fd87980d879...   \n",
       "6010  d8799fd8799f40ffd8799fa1d8799fd8799fd87980d879...   \n",
       "6011  d8799fd8799f40ffd8799fa1d8799fd8799fd87980d879...   \n",
       "6012  d8799fd8799f40ffd8799fa1d8799fd8799fd87980d879...   \n",
       "6013  d8799fd8799f40ffd8799fa1d8799fd8799fd87980d879...   \n",
       "\n",
       "                                                   sent  length         x  \\\n",
       "0     d8 79 9f d8 79 9f 40 ff d8 79 9f a1 d8 79 9f d...    1686  0.759535   \n",
       "1     d8 79 9f d8 79 9f 40 ff d8 79 9f a1 d8 79 9f d...     221  0.917683   \n",
       "2     d8 79 9f d8 79 9f 40 ff d8 79 9f a1 d8 79 9f d...     402  0.797261   \n",
       "3     d8 79 9f d8 79 9f 40 ff d8 79 9f a1 d8 79 9f d...     597  0.853370   \n",
       "4     d8 79 9f d8 79 9f 58 1c 8b b3 b3 43 d8 e4 04 4...     318  0.930408   \n",
       "...                                                 ...     ...       ...   \n",
       "6009  d8 79 9f d8 79 9f 40 ff d8 79 9f a1 d8 79 9f d...     283  0.765153   \n",
       "6010  d8 79 9f d8 79 9f 40 ff d8 79 9f a1 d8 79 9f d...     713  0.806228   \n",
       "6011  d8 79 9f d8 79 9f 40 ff d8 79 9f a1 d8 79 9f d...    1258  0.843378   \n",
       "6012  d8 79 9f d8 79 9f 40 ff d8 79 9f a1 d8 79 9f d...     597  0.851429   \n",
       "6013  d8 79 9f d8 79 9f 40 ff d8 79 9f a1 d8 79 9f d...    1634  0.815914   \n",
       "\n",
       "             y  cluster  \n",
       "0    -0.129193        3  \n",
       "1    -0.017631        3  \n",
       "2    -0.132639        3  \n",
       "3    -0.177754        1  \n",
       "4     0.283889        0  \n",
       "...        ...      ...  \n",
       "6009 -0.092079        3  \n",
       "6010 -0.064732        4  \n",
       "6011 -0.090662        3  \n",
       "6012 -0.241877        1  \n",
       "6013 -0.122717        3  \n",
       "\n",
       "[6014 rows x 8 columns]"
      ]
     },
     "execution_count": 23,
     "metadata": {},
     "output_type": "execute_result"
    }
   ],
   "source": [
    "df_contracts = df[['txid_hex', 'Fee']].copy()\n"
   ]
  },
  {
   "cell_type": "code",
   "execution_count": null,
   "id": "ca129e98",
   "metadata": {},
   "outputs": [],
   "source": []
  }
 ],
 "metadata": {
  "kernelspec": {
   "display_name": "Python 3 (ipykernel)",
   "language": "python",
   "name": "python3"
  },
  "language_info": {
   "codemirror_mode": {
    "name": "ipython",
    "version": 3
   },
   "file_extension": ".py",
   "mimetype": "text/x-python",
   "name": "python",
   "nbconvert_exporter": "python",
   "pygments_lexer": "ipython3",
   "version": "3.9.18"
  }
 },
 "nbformat": 4,
 "nbformat_minor": 5
}
